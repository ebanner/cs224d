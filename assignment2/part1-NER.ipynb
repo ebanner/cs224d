{
 "cells": [
  {
   "cell_type": "markdown",
   "metadata": {},
   "source": [
    "# CS 224D Assignment #2\n",
    "# Part [1]: Deep Networks: NER Window Model\n",
    "\n",
    "For this first part of the assignment, you'll build your first \"deep\" networks. On problem set 1, you computed the backpropagation gradient $\\frac{\\partial J}{\\partial w}$ for a two-layer network; in this problem set you'll implement a slightly more complex network to perform  named entity recognition (NER).\n",
    "\n",
    "Before beginning the programming section, you should complete parts (a) and (b) of the corresponding section of the handout."
   ]
  },
  {
   "cell_type": "code",
   "execution_count": 1,
   "metadata": {
    "collapsed": false,
    "scrolled": true
   },
   "outputs": [],
   "source": [
    "import sys, os\n",
    "from numpy import *\n",
    "from matplotlib.pyplot import *\n",
    "%matplotlib inline\n",
    "matplotlib.rcParams['savefig.dpi'] = 100\n",
    "\n",
    "%load_ext autoreload\n",
    "%autoreload 2"
   ]
  },
  {
   "cell_type": "markdown",
   "metadata": {},
   "source": [
    "## (c): Random Initialization Test\n",
    "Use the cell below to test your code."
   ]
  },
  {
   "cell_type": "code",
   "execution_count": 2,
   "metadata": {
    "collapsed": false
   },
   "outputs": [
    {
     "name": "stdout",
     "output_type": "stream",
     "text": [
      "[[ 0.46994114 -0.83008197  0.23148553  0.43094097 -0.00258593]\n",
      " [-0.47666619 -0.52297046  0.45125243 -0.57311684 -0.71301636]\n",
      " [ 0.32105262  0.78530031 -0.85918681  0.02111762  0.54147539]]\n"
     ]
    }
   ],
   "source": [
    "from misc import random_weight_matrix\n",
    "random.seed(10)\n",
    "print random_weight_matrix(3,5)"
   ]
  },
  {
   "cell_type": "markdown",
   "metadata": {},
   "source": [
    "## (d): Implementation\n",
    "\n",
    "We've provided starter code to load in the dataset and convert it to a list of \"windows\", consisting of indices into the matrix of word vectors. \n",
    "\n",
    "We pad each sentence with begin and end tokens `<s>` and `</s>`, which have their own word vector representations; additionally, we convert all words to lowercase, canonicalize digits (e.g. `1.12` becomes `DG.DGDG`), and replace unknown words with a special token `UUUNKKK`.\n",
    "\n",
    "You don't need to worry about the details of this, but you can inspect the `docs` variables or look at the raw data (in plaintext) in the `./data/` directory."
   ]
  },
  {
   "cell_type": "code",
   "execution_count": 3,
   "metadata": {
    "collapsed": true
   },
   "outputs": [],
   "source": [
    "import data_utils.utils as du\n",
    "import data_utils.ner as ner"
   ]
  },
  {
   "cell_type": "code",
   "execution_count": 4,
   "metadata": {
    "collapsed": false
   },
   "outputs": [],
   "source": [
    "# Load the starter word vectors\n",
    "wv, word_to_num, num_to_word = ner.load_wv('data/ner/vocab.txt',\n",
    "                                           'data/ner/wordVectors.txt')\n",
    "tagnames = [\"O\", \"LOC\", \"MISC\", \"ORG\", \"PER\"]\n",
    "num_to_tag = dict(enumerate(tagnames))\n",
    "tag_to_num = du.invert_dict(num_to_tag)\n",
    "\n",
    "# Set window size\n",
    "windowsize = 3\n",
    "\n",
    "# Load the training set\n",
    "docs = du.load_dataset('data/ner/train')\n",
    "X_train, y_train = du.docs_to_windows(docs, word_to_num, tag_to_num,\n",
    "                                      wsize=windowsize)\n",
    "\n",
    "# Load the dev set (for tuning hyperparameters)\n",
    "docs = du.load_dataset('data/ner/dev')\n",
    "X_dev, y_dev = du.docs_to_windows(docs, word_to_num, tag_to_num,\n",
    "                                  wsize=windowsize)\n",
    "\n",
    "# Load the test set (dummy labels only)\n",
    "docs = du.load_dataset('data/ner/test.masked')\n",
    "X_test, y_test = du.docs_to_windows(docs, word_to_num, tag_to_num,\n",
    "                                    wsize=windowsize)"
   ]
  },
  {
   "cell_type": "markdown",
   "metadata": {},
   "source": [
    "To avoid re-inventing the wheel, we provide a base class that handles a lot of the drudgery of managing parameters and running gradient descent. It's based on the classifier API used by [`scikit-learn`](http://scikit-learn.org/stable/), so if you're familiar with that library it should be easy to use. \n",
    "\n",
    "We'll be using this class for the rest of this assignment, so it helps to get acquainted with a simple example that should be familiar from Assignment 1. To keep this notebook uncluttered, we've put the code in the `softmax_example.py`; take a look at it there, then run the cell below."
   ]
  },
  {
   "cell_type": "code",
   "execution_count": 5,
   "metadata": {
    "collapsed": false
   },
   "outputs": [
    {
     "name": "stderr",
     "output_type": "stream",
     "text": [
      "grad_check: dJ/db error norm = 3.565e-10 [ok]\n",
      "    b dims: [5] = 5 elem\n",
      "grad_check: dJ/dW error norm = 2.164e-11 [ok]\n",
      "    W dims: [5, 100] = 500 elem\n",
      "grad_check: dJ/dL[5] error norm = 2.646e-11 [ok]\n",
      "    L[5] dims: [100] = 100 elem\n"
     ]
    }
   ],
   "source": [
    "from softmax_example import SoftmaxRegression\n",
    "sr = SoftmaxRegression(wv=zeros((10,100)), dims=(100,5))\n",
    "\n",
    "##\n",
    "# Automatic gradient checker!\n",
    "# this checks anything you add to self.grads or self.sgrads\n",
    "# using the method of Assignment 1\n",
    "sr.grad_check(x=5, y=4)"
   ]
  },
  {
   "cell_type": "markdown",
   "metadata": {},
   "source": [
    "In order to implement a model, you need to subclass `NNBase`, then implement the following methods:\n",
    "\n",
    "- `__init__()` (initialize parameters and hyperparameters)\n",
    "- `_acc_grads()` (compute and accumulate gradients)\n",
    "- `compute_loss()` (compute loss for a training example)\n",
    "- `predict()`, `predict_proba()`, or other prediction method (for evaluation)\n",
    "\n",
    "`NNBase` provides you with a few others that will be helpful:\n",
    "\n",
    "- `grad_check()` (run a gradient check - calls `_acc_grads` and `compute_loss`)\n",
    "- `train_sgd()` (run SGD training; more on this later)\n",
    "\n",
    "Your task is to implement the window model in `nerwindow.py`; a scaffold has been provided for you with instructions on what to fill in.\n",
    "\n",
    "When ready, you can test below:"
   ]
  },
  {
   "cell_type": "code",
   "execution_count": 64,
   "metadata": {
    "collapsed": false
   },
   "outputs": [
    {
     "name": "stderr",
     "output_type": "stream",
     "text": [
      "grad_check: dJ/db2 error norm = 3.223e-10 [ok]\n",
      "    b2 dims: [5] = 5 elem\n",
      "grad_check: dJ/dU error norm = 2.838e-10 [ok]\n",
      "    U dims: [5, 100] = 500 elem\n",
      "grad_check: dJ/db1 error norm = 2.851e-09 [ok]\n",
      "    b1 dims: [100] = 100 elem\n",
      "grad_check: dJ/dW error norm = 1.337e-08 [ok]\n",
      "    W dims: [100, 150] = 15000 elem\n",
      "grad_check: dJ/dL[[   30  6659 12637]] error norm = 6.837e-11 [ok]\n",
      "    L[[   30  6659 12637]] dims: [3, 50] = 150 elem\n"
     ]
    }
   ],
   "source": [
    "from nerwindow import WindowMLP\n",
    "clf = WindowMLP(wv, windowsize=windowsize, dims=[None, 100, 5],\n",
    "                reg=0.001, alpha=0.01)\n",
    "\n",
    "clf.grad_check(X_train[0], y_train[0]) # gradient check on single point"
   ]
  },
  {
   "cell_type": "markdown",
   "metadata": {},
   "source": [
    "Now we'll train your model on some data! You can implement your own SGD method, but we recommend that you just call `clf.train_sgd`. This takes the following arguments:\n",
    "\n",
    "- `X`, `y` : training data\n",
    "- `idxiter`: iterable (list or generator) that gives index (row of X) of training examples in the order they should be visited by SGD\n",
    "- `printevery`: int, prints progress after this many examples\n",
    "- `costevery`: int, computes mean loss after this many examples. This is a costly operation, so don't make this too frequent!\n",
    "\n",
    "The implementation we give you supports minibatch learning; if `idxiter` is a list-of-lists (or yields lists), then gradients will be computed for all indices in a minibatch before modifying the parameters (this is why we have you write `_acc_grad` instead of applying them directly!).\n",
    "\n",
    "Before training, you should generate a training schedule to pass as `idxiter`. If you know how to use Python generators, we recommend those; otherwise, just make a static list. Make the following in the cell below:\n",
    "\n",
    "- An \"epoch\" schedule that just iterates through the training set, in order, `nepoch` times.\n",
    "- A random schedule of `N` examples sampled with replacement from the training set.\n",
    "- A random schedule of `N/k` minibatches of size `k`, sampled with replacement from the training set."
   ]
  },
  {
   "cell_type": "code",
   "execution_count": 83,
   "metadata": {
    "collapsed": true
   },
   "outputs": [],
   "source": [
    "epoch_size = len(y_train)\n",
    "\n",
    "def epoch_trainer(N, k=None):\n",
    "    \"\"\"Yields train indices that trains over n epochs\"\"\"\n",
    "    \n",
    "    for _ in range(N):\n",
    "        for train_index in range(epoch_size):\n",
    "            yield train_index\n",
    "            \n",
    "def random_trainer(N, k=None):\n",
    "    \"\"\"Yields N randomly chosen training examples\"\"\"\n",
    "    \n",
    "    for _ in range(N):\n",
    "        yield np.random.randint(0, epoch_size)\n",
    "        \n",
    "def random_minibatch_trainer(N, k):\n",
    "    \"\"\"Yields N/k minibatches of size k\"\"\"\n",
    "    \n",
    "    for _ in range(N/k):\n",
    "        yield np.random.choice(epoch_size, size=k)"
   ]
  },
  {
   "cell_type": "markdown",
   "metadata": {},
   "source": [
    "Now call `train_sgd` to train on `X_train`, `y_train`. To verify that things work, train on 100,000 examples or so to start (with any of the above schedules). This shouldn't take more than a couple minutes, and you should get a mean cross-entropy loss around 0.4.\n",
    "\n",
    "Now, if this works well, it's time for production! You have three tasks here:\n",
    "\n",
    "1. Train a good model\n",
    "2. Plot a learning curve (cost vs. # of iterations)\n",
    "3. Use your best model to predict the test set\n",
    "\n",
    "You should train on the `train` data and evaluate performance on the `dev` set. The `test` data we provided has only dummy labels (everything is `O`); we'll compare your predictions to the true labels at grading time. \n",
    "\n",
    "Scroll down to section (f) for the evaluation code.\n",
    "\n",
    "We don't expect you to spend too much time doing an exhaustive search here; the default parameters should work well, although you can certainly do better. Try to achieve an F1 score of at least 76% on the dev set, as reported by `eval_performance`.\n",
    "\n",
    "Feel free to create new cells and write new code here, including new functions (helpers and otherwise) in `nerwindow.py`. When you have a good model, follow the instructions below to make predictions on the test set.\n",
    "\n",
    "A strong model may require 10-20 passes (or equivalent number of random samples) through the training set and could take 20 minutes or more to train - but it's also possible to be much, much faster!\n",
    "\n",
    "Things you may want to tune:\n",
    "- `alpha` (including using an \"annealing\" schedule to decrease the learning rate over time)\n",
    "- training schedule and minibatch size\n",
    "- regularization strength\n",
    "- hidden layer dimension\n",
    "- width of context window"
   ]
  },
  {
   "cell_type": "markdown",
   "metadata": {},
   "source": [
    "### Sandbox: Build a Good Model by Tuning Hyperparameters"
   ]
  },
  {
   "cell_type": "code",
   "execution_count": 8,
   "metadata": {
    "collapsed": false
   },
   "outputs": [
    {
     "data": {
      "text/plain": [
       "203621"
      ]
     },
     "execution_count": 8,
     "metadata": {},
     "output_type": "execute_result"
    }
   ],
   "source": [
    "epoch_size"
   ]
  },
  {
   "cell_type": "code",
   "execution_count": 41,
   "metadata": {
    "collapsed": true
   },
   "outputs": [],
   "source": [
    "from collections import namedtuple\n",
    "\n",
    "Evaluation = namedtuple('Evaluation', ['alpha', 'minibatch_size', 'reg', 'num_hidden', 'window_width', 'counter', 'cost', 'clf'])"
   ]
  },
  {
   "cell_type": "code",
   "execution_count": 129,
   "metadata": {
    "collapsed": true
   },
   "outputs": [],
   "source": [
    "epoch_size = len(y_train)\n",
    "\n",
    "def evaluate(alpha=.01, minibatch_size=5, reg=.001, num_hidden=100, window_width=3, trainer=random_minibatch_trainer):\n",
    "    # Instantiate windowed model with hyperparameter set\n",
    "    clf = WindowMLP(wv, windowsize=windowsize, dims=[None, num_hidden, 5], reg=reg, alpha=alpha)\n",
    "    \n",
    "    # Train the model\n",
    "    random.seed(10) # do not change this!\n",
    "    num_costs_desired = 20\n",
    "    costevery = epoch_size / (num_costs_desired*minibatch_size)\n",
    "    costs = clf.train_sgd(X_train, y_train,\n",
    "                          trainer(**{'N': epoch_size*6, 'k': minibatch_size}),\n",
    "                          printevery=costevery*2, costevery=costevery)\n",
    "    \n",
    "    for counter, cost in costs:\n",
    "        yield Evaluation(alpha, minibatch_size, reg, num_hidden, window_width, counter, cost, clf)\n",
    "\n",
    "def evaluations_generator(param, values):\n",
    "    for value in values:\n",
    "        yield list(evaluate(**{param: value}))"
   ]
  },
  {
   "cell_type": "markdown",
   "metadata": {},
   "source": [
    "### Evaluate"
   ]
  },
  {
   "cell_type": "code",
   "execution_count": 131,
   "metadata": {
    "collapsed": true
   },
   "outputs": [],
   "source": [
    "from nerwindow import eval_performance, full_report\n",
    "\n",
    "def hyperparam_search(param, values):\n",
    "    evaluations = list(evaluations_generator(param=param, values=values))\n",
    "\n",
    "    evaluations = [eval for eval_list in evaluations for eval in eval_list]\n",
    "\n",
    "    df = pd.DataFrame(evaluations, columns=Evaluation._fields)\n",
    "\n",
    "    df[[param, 'cost']].groupby(param).plot()\n",
    "\n",
    "    # Get classifier and evaluate\n",
    "    clf = df.iloc[-1].clf\n",
    "    predictions = clf.predict(X_dev)\n",
    "    full_report(y_dev, predictions, tagnames)\n",
    "    eval_performance(y_dev, predictions, tagnames)\n",
    "    \n",
    "    return df"
   ]
  },
  {
   "cell_type": "markdown",
   "metadata": {},
   "source": [
    "### Learning Rate"
   ]
  },
  {
   "cell_type": "code",
   "execution_count": 132,
   "metadata": {
    "collapsed": false,
    "scrolled": true
   },
   "outputs": [
    {
     "name": "stdout",
     "output_type": "stream",
     "text": [
      "Begin SGD...\n",
      "  Seen 0 in 0.00 s\n",
      "  [0]: mean loss 1.77988\n",
      "  [2036]: mean loss 0.377176\n",
      "  Seen 4072 in 14.57 s\n",
      "  [4072]: mean loss 0.352735\n",
      "  [6108]: mean loss 0.343024\n",
      "  Seen 8144 in 29.08 s\n",
      "  [8144]: mean loss 0.32611\n",
      "  [10180]: mean loss 0.311012\n",
      "  Seen 12216 in 43.58 s\n",
      "  [12216]: mean loss 0.30548\n",
      "  [14252]: mean loss 0.298538\n",
      "  Seen 16288 in 58.08 s\n",
      "  [16288]: mean loss 0.294182\n",
      "  [18324]: mean loss 0.291829\n",
      "  Seen 20360 in 72.57 s\n",
      "  [20360]: mean loss 0.291276\n",
      "  [22396]: mean loss 0.289381\n",
      "  Seen 24432 in 87.02 s\n",
      "  [24432]: mean loss 0.272152\n",
      "  [26468]: mean loss 0.267267\n",
      "  Seen 28504 in 101.51 s\n",
      "  [28504]: mean loss 0.260738\n",
      "  [30540]: mean loss 0.259266\n",
      "  Seen 32576 in 115.98 s\n",
      "  [32576]: mean loss 0.253774\n",
      "  [34612]: mean loss 0.248754\n",
      "  Seen 36648 in 130.43 s\n",
      "  [36648]: mean loss 0.241621\n",
      "  [38684]: mean loss 0.241458\n",
      "  Seen 40720 in 144.85 s\n",
      "  [40720]: mean loss 0.236385\n",
      "  [42756]: mean loss 0.236458\n",
      "  Seen 44792 in 159.28 s\n",
      "  [44792]: mean loss 0.23184\n",
      "  [46828]: mean loss 0.225704\n",
      "  Seen 48864 in 173.72 s\n",
      "  [48864]: mean loss 0.224368\n",
      "  [50900]: mean loss 0.222458\n",
      "  Seen 52936 in 188.12 s\n",
      "  [52936]: mean loss 0.216766\n",
      "  [54972]: mean loss 0.217408\n",
      "  Seen 57008 in 202.54 s\n",
      "  [57008]: mean loss 0.21114\n",
      "  [59044]: mean loss 0.222905\n",
      "  Seen 61080 in 216.96 s\n",
      "  [61080]: mean loss 0.20217\n",
      "  [63116]: mean loss 0.203719\n",
      "  Seen 65152 in 231.41 s\n",
      "  [65152]: mean loss 0.20006\n",
      "  [67188]: mean loss 0.195383\n",
      "  Seen 69224 in 245.83 s\n",
      "  [69224]: mean loss 0.194841\n",
      "  [71260]: mean loss 0.199188\n",
      "  Seen 73296 in 260.25 s\n",
      "  [73296]: mean loss 0.196147\n",
      "  [75332]: mean loss 0.190695\n",
      "  Seen 77368 in 274.66 s\n",
      "  [77368]: mean loss 0.191059\n",
      "  [79404]: mean loss 0.18472\n",
      "  Seen 81440 in 289.12 s\n",
      "  [81440]: mean loss 0.187266\n",
      "  [83476]: mean loss 0.188222\n",
      "  Seen 85512 in 303.64 s\n",
      "  [85512]: mean loss 0.184634\n",
      "  [87548]: mean loss 0.175378\n",
      "  Seen 89584 in 318.11 s\n",
      "  [89584]: mean loss 0.173939\n",
      "  [91620]: mean loss 0.176308\n",
      "  Seen 93656 in 332.44 s\n",
      "  [93656]: mean loss 0.177296\n",
      "  [95692]: mean loss 0.171652\n",
      "  Seen 97728 in 346.71 s\n",
      "  [97728]: mean loss 0.168157\n",
      "  [99764]: mean loss 0.168634\n",
      "  Seen 101800 in 361.00 s\n",
      "  [101800]: mean loss 0.179673\n",
      "  [103836]: mean loss 0.167272\n",
      "  Seen 105872 in 375.26 s\n",
      "  [105872]: mean loss 0.166726\n",
      "  [107908]: mean loss 0.165894\n",
      "  Seen 109944 in 389.55 s\n",
      "  [109944]: mean loss 0.163655\n",
      "  [111980]: mean loss 0.171428\n",
      "  Seen 114016 in 403.88 s\n",
      "  [114016]: mean loss 0.161463\n",
      "  [116052]: mean loss 0.156949\n",
      "  Seen 118088 in 418.20 s\n",
      "  [118088]: mean loss 0.157005\n",
      "  [120124]: mean loss 0.156874\n",
      "  Seen 122160 in 432.49 s\n",
      "  [122160]: mean loss 0.159372\n",
      "  [124196]: mean loss 0.164487\n",
      "  Seen 126232 in 446.77 s\n",
      "  [126232]: mean loss 0.164235\n",
      "  [128268]: mean loss 0.15753\n",
      "  Seen 130304 in 461.08 s\n",
      "  [130304]: mean loss 0.155193\n",
      "  [132340]: mean loss 0.148216\n",
      "  Seen 134376 in 475.33 s\n",
      "  [134376]: mean loss 0.153127\n",
      "  [136412]: mean loss 0.146899\n",
      "  Seen 138448 in 489.55 s\n",
      "  [138448]: mean loss 0.158538\n",
      "  [140484]: mean loss 0.145128\n",
      "  Seen 142520 in 503.81 s\n",
      "  [142520]: mean loss 0.161693\n",
      "  [144556]: mean loss 0.147257\n",
      "  Seen 146592 in 518.03 s\n",
      "  [146592]: mean loss 0.14823\n",
      "  [148628]: mean loss 0.143503\n",
      "  Seen 150664 in 532.30 s\n",
      "  [150664]: mean loss 0.144244\n",
      "  [152700]: mean loss 0.139396\n",
      "  Seen 154736 in 546.64 s\n",
      "  [154736]: mean loss 0.143931\n",
      "  [156772]: mean loss 0.143183\n",
      "  Seen 158808 in 561.09 s\n",
      "  [158808]: mean loss 0.140154\n",
      "  [160844]: mean loss 0.139334\n",
      "  Seen 162880 in 575.45 s\n",
      "  [162880]: mean loss 0.139641\n",
      "  [164916]: mean loss 0.137282\n",
      "  Seen 166952 in 589.85 s\n",
      "  [166952]: mean loss 0.137373\n",
      "  [168988]: mean loss 0.134963\n",
      "  Seen 171024 in 604.23 s\n",
      "  [171024]: mean loss 0.136562\n",
      "  [173060]: mean loss 0.13737\n",
      "  Seen 175096 in 618.65 s\n",
      "  [175096]: mean loss 0.133131\n",
      "  [177132]: mean loss 0.145312\n",
      "  Seen 179168 in 633.06 s\n",
      "  [179168]: mean loss 0.135528\n",
      "  [181204]: mean loss 0.129908\n",
      "  Seen 183240 in 647.40 s\n",
      "  [183240]: mean loss 0.142294\n",
      "  [185276]: mean loss 0.133199\n",
      "  Seen 187312 in 661.77 s\n",
      "  [187312]: mean loss 0.130657\n",
      "  [189348]: mean loss 0.131844\n",
      "  Seen 191384 in 676.13 s\n",
      "  [191384]: mean loss 0.131104\n",
      "  [193420]: mean loss 0.12765\n",
      "  Seen 195456 in 690.69 s\n",
      "  [195456]: mean loss 0.127438\n",
      "  [197492]: mean loss 0.129867\n",
      "  Seen 199528 in 705.14 s\n",
      "  [199528]: mean loss 0.129015\n",
      "  [201564]: mean loss 0.130117\n",
      "  Seen 203600 in 719.61 s\n",
      "  [203600]: mean loss 0.128891\n",
      "  [205636]: mean loss 0.127838\n",
      "  Seen 207672 in 733.97 s\n",
      "  [207672]: mean loss 0.12741\n",
      "  [209708]: mean loss 0.123911\n",
      "  Seen 211744 in 748.35 s\n",
      "  [211744]: mean loss 0.124933\n",
      "  [213780]: mean loss 0.127355\n",
      "  Seen 215816 in 762.69 s\n",
      "  [215816]: mean loss 0.122101\n",
      "  [217852]: mean loss 0.123395\n",
      "  Seen 219888 in 777.03 s\n",
      "  [219888]: mean loss 0.125245\n",
      "  [221924]: mean loss 0.122372\n",
      "  Seen 223960 in 791.37 s\n",
      "  [223960]: mean loss 0.118475\n",
      "  [225996]: mean loss 0.119692\n",
      "  Seen 228032 in 805.72 s\n",
      "  [228032]: mean loss 0.124711\n",
      "  [230068]: mean loss 0.124428\n",
      "  Seen 232104 in 820.11 s\n",
      "  [232104]: mean loss 0.121373\n",
      "  [234140]: mean loss 0.121684\n",
      "  Seen 236176 in 834.47 s\n",
      "  [236176]: mean loss 0.120428\n",
      "  [238212]: mean loss 0.118821\n",
      "  Seen 240248 in 848.86 s\n",
      "  [240248]: mean loss 0.116384\n",
      "  [242284]: mean loss 0.118998\n",
      "  Seen 244320 in 863.16 s\n",
      "  [244320]: mean loss 0.117865\n",
      "  [244345]: mean loss 0.122189\n",
      "SGD complete: 244345 examples in 874.23 seconds.\n",
      "             precision    recall  f1-score   support\n",
      "\n",
      "          O       0.96      0.99      0.97     42759\n",
      "        LOC       0.81      0.86      0.83      2094\n",
      "       MISC       0.88      0.64      0.74      1268\n",
      "        ORG       0.76      0.52      0.62      2092\n",
      "        PER       0.89      0.78      0.83      3149\n",
      "\n",
      "avg / total       0.94      0.94      0.94     51362\n",
      "\n",
      "=== Performance (omitting 'O' class) ===\n",
      "Mean precision:  83.57%\n",
      "Mean recall:     71.67%\n",
      "Mean F1:         76.68%\n"
     ]
    },
    {
     "data": {
      "image/png": "[encoded data removed]",
      "text/plain": [
       "<matplotlib.figure.Figure at 0x7fe5f9eb8490>"
      ]
     },
     "metadata": {},
     "output_type": "display_data"
    }
   ],
   "source": [
    "df = hyperparam_search('alpha', values=(.01,))"
   ]
  },
  {
   "cell_type": "markdown",
   "metadata": {},
   "source": [
    "## (e): Plot Learning Curves\n",
    "The `train_sgd` function returns a list of points `(counter, cost)` giving the mean loss after that number of SGD iterations.\n",
    "\n",
    "If the model is taking too long you can cut it off by going to *Kernel->Interrupt* in the IPython menu; `train_sgd` will return the training curve so-far, and you can restart without losing your training progress.\n",
    "\n",
    "Make two plots:\n",
    "\n",
    "- Learning curve using `reg = 0.001`, and comparing the effect of changing the learning rate: run with `alpha = 0.01` and `alpha = 0.1`. Use minibatches of size 5, and train for 10,000 minibatches with `costevery=200`. Be sure to scale up your counts (x-axis) to reflect the batch size. What happens if the model tries to learn too fast? Explain why this occurs, based on the relation of SGD to the true objective.\n",
    "\n",
    "- Learning curve for your best model (print the hyperparameters in the title), as trained using your best schedule. Set `costevery` so that you get at least 100 points to plot."
   ]
  },
  {
   "cell_type": "code",
   "execution_count": 142,
   "metadata": {
    "collapsed": false,
    "scrolled": true
   },
   "outputs": [
    {
     "data": {
      "text/plain": [
       "0           0\n",
       "1        2036\n",
       "2        4072\n",
       "3        6108\n",
       "4        8144\n",
       "5       10180\n",
       "6       12216\n",
       "7       14252\n",
       "8       16288\n",
       "9       18324\n",
       "10      20360\n",
       "11      22396\n",
       "12      24432\n",
       "13      26468\n",
       "14      28504\n",
       "15      30540\n",
       "16      32576\n",
       "17      34612\n",
       "18      36648\n",
       "19      38684\n",
       "20      40720\n",
       "21      42756\n",
       "22      44792\n",
       "23      46828\n",
       "24      48864\n",
       "25      50900\n",
       "26      52936\n",
       "27      54972\n",
       "28      57008\n",
       "29      59044\n",
       "        ...  \n",
       "92     187312\n",
       "93     189348\n",
       "94     191384\n",
       "95     193420\n",
       "96     195456\n",
       "97     197492\n",
       "98     199528\n",
       "99     201564\n",
       "100    203600\n",
       "101    205636\n",
       "102    207672\n",
       "103    209708\n",
       "104    211744\n",
       "105    213780\n",
       "106    215816\n",
       "107    217852\n",
       "108    219888\n",
       "109    221924\n",
       "110    223960\n",
       "111    225996\n",
       "112    228032\n",
       "113    230068\n",
       "114    232104\n",
       "115    234140\n",
       "116    236176\n",
       "117    238212\n",
       "118    240248\n",
       "119    242284\n",
       "120    244320\n",
       "121    244345\n",
       "Name: counter, dtype: int64"
      ]
     },
     "execution_count": 142,
     "metadata": {},
     "output_type": "execute_result"
    }
   ],
   "source": [
    "df[['counter', 'cost']].counter"
   ]
  },
  {
   "cell_type": "code",
   "execution_count": 149,
   "metadata": {
    "collapsed": false
   },
   "outputs": [],
   "source": [
    "counts, costs = list(df.counter), list(df.cost)"
   ]
  },
  {
   "cell_type": "code",
   "execution_count": 152,
   "metadata": {
    "collapsed": false
   },
   "outputs": [],
   "source": [
    "clf = df.iloc[-1].clf"
   ]
  },
  {
   "cell_type": "code",
   "execution_count": 150,
   "metadata": {
    "collapsed": false,
    "scrolled": true
   },
   "outputs": [
    {
     "data": {
      "image/png": "[encoded data removed]",
      "text/plain": [
       "<matplotlib.figure.Figure at 0x7fe5f9e08c90>"
      ]
     },
     "metadata": {},
     "output_type": "display_data"
    }
   ],
   "source": [
    "##\n",
    "# Plot your best learning curve here\n",
    "# counts, costs = zip(*traincurvebest)\n",
    "figure(figsize=(6,4))\n",
    "plot(5*array(counts), costs, color='b', marker='o', linestyle='-')\n",
    "title(r\"Learning Curve ($\\alpha$=%g, $\\lambda$=%g)\" % (clf.alpha, clf.lreg))\n",
    "xlabel(\"SGD Iterations\"); ylabel(r\"Average $J(\\theta)$\"); \n",
    "ylim(ymin=0, ymax=max(1.1*max(costs),3*min(costs)));\n",
    "ylim(0,0.5)\n",
    "\n",
    "# Don't change this filename!\n",
    "savefig(\"ner.learningcurve.best.png\")"
   ]
  },
  {
   "cell_type": "code",
   "execution_count": 153,
   "metadata": {
    "collapsed": false
   },
   "outputs": [
    {
     "ename": "NameError",
     "evalue": "name 'trainingcurve1' is not defined",
     "output_type": "error",
     "traceback": [
      "\u001b[1;31m---------------------------------------------------------------------------\u001b[0m",
      "\u001b[1;31mNameError\u001b[0m                                 Traceback (most recent call last)",
      "\u001b[1;32m<ipython-input-153-a22c02fc96b0>\u001b[0m in \u001b[0;36m<module>\u001b[1;34m()\u001b[0m\n\u001b[0;32m      4\u001b[0m \u001b[1;33m\u001b[0m\u001b[0m\n\u001b[0;32m      5\u001b[0m \u001b[0mfigure\u001b[0m\u001b[1;33m(\u001b[0m\u001b[0mfigsize\u001b[0m\u001b[1;33m=\u001b[0m\u001b[1;33m(\u001b[0m\u001b[1;36m6\u001b[0m\u001b[1;33m,\u001b[0m\u001b[1;36m4\u001b[0m\u001b[1;33m)\u001b[0m\u001b[1;33m)\u001b[0m\u001b[1;33m\u001b[0m\u001b[0m\n\u001b[1;32m----> 6\u001b[1;33m \u001b[0mcounts\u001b[0m\u001b[1;33m,\u001b[0m \u001b[0mcosts\u001b[0m \u001b[1;33m=\u001b[0m \u001b[0mzip\u001b[0m\u001b[1;33m(\u001b[0m\u001b[1;33m*\u001b[0m\u001b[0mtrainingcurve1\u001b[0m\u001b[1;33m)\u001b[0m\u001b[1;33m\u001b[0m\u001b[0m\n\u001b[0m\u001b[0;32m      7\u001b[0m \u001b[0mplot\u001b[0m\u001b[1;33m(\u001b[0m\u001b[1;36m5\u001b[0m\u001b[1;33m*\u001b[0m\u001b[0marray\u001b[0m\u001b[1;33m(\u001b[0m\u001b[0mcounts\u001b[0m\u001b[1;33m)\u001b[0m\u001b[1;33m,\u001b[0m \u001b[0mcosts\u001b[0m\u001b[1;33m,\u001b[0m \u001b[0mcolor\u001b[0m\u001b[1;33m=\u001b[0m\u001b[1;34m'b'\u001b[0m\u001b[1;33m,\u001b[0m \u001b[0mmarker\u001b[0m\u001b[1;33m=\u001b[0m\u001b[1;34m'o'\u001b[0m\u001b[1;33m,\u001b[0m \u001b[0mlinestyle\u001b[0m\u001b[1;33m=\u001b[0m\u001b[1;34m'-'\u001b[0m\u001b[1;33m,\u001b[0m \u001b[0mlabel\u001b[0m\u001b[1;33m=\u001b[0m\u001b[1;34mr\"$\\alpha=0.01$\"\u001b[0m\u001b[1;33m)\u001b[0m\u001b[1;33m\u001b[0m\u001b[0m\n\u001b[0;32m      8\u001b[0m \u001b[0mcounts\u001b[0m\u001b[1;33m,\u001b[0m \u001b[0mcosts\u001b[0m \u001b[1;33m=\u001b[0m \u001b[0mzip\u001b[0m\u001b[1;33m(\u001b[0m\u001b[1;33m*\u001b[0m\u001b[0mtrainingcurve2\u001b[0m\u001b[1;33m)\u001b[0m\u001b[1;33m\u001b[0m\u001b[0m\n",
      "\u001b[1;31mNameError\u001b[0m: name 'trainingcurve1' is not defined"
     ]
    },
    {
     "data": {
      "text/plain": [
       "<matplotlib.figure.Figure at 0x7fe5f4366b50>"
      ]
     },
     "metadata": {},
     "output_type": "display_data"
    }
   ],
   "source": [
    "##\n",
    "# Plot comparison of learning rates here\n",
    "# feel free to change the code below\n",
    "\n",
    "figure(figsize=(6,4))\n",
    "counts, costs = zip(*trainingcurve1)\n",
    "plot(5*array(counts), costs, color='b', marker='o', linestyle='-', label=r\"$\\alpha=0.01$\")\n",
    "counts, costs = zip(*trainingcurve2)\n",
    "plot(5*array(counts), costs, color='g', marker='o', linestyle='-', label=r\"$\\alpha=0.1$\")\n",
    "title(r\"Learning Curve ($\\lambda=0.01$, minibatch k=5)\")\n",
    "xlabel(\"SGD Iterations\"); ylabel(r\"Average $J(\\theta)$\"); \n",
    "ylim(ymin=0, ymax=max(1.1*max(costs),3*min(costs)));\n",
    "legend()\n",
    "\n",
    "# Don't change this filename\n",
    "savefig(\"ner.learningcurve.comparison.png\")"
   ]
  },
  {
   "cell_type": "markdown",
   "metadata": {},
   "source": [
    "## (f): Evaluating your model\n",
    "Evaluate the model on the dev set using your `predict` function, and compute performance metrics below!"
   ]
  },
  {
   "cell_type": "code",
   "execution_count": 154,
   "metadata": {
    "collapsed": true
   },
   "outputs": [],
   "source": [
    "# Predict labels on the dev set\n",
    "yp = clf.predict(X_dev)\n",
    "# Save predictions to a file, one per line\n",
    "ner.save_predictions(yp, \"dev.predicted\")"
   ]
  },
  {
   "cell_type": "code",
   "execution_count": 155,
   "metadata": {
    "collapsed": false,
    "scrolled": true
   },
   "outputs": [
    {
     "name": "stdout",
     "output_type": "stream",
     "text": [
      "             precision    recall  f1-score   support\n",
      "\n",
      "          O       0.96      0.99      0.97     42759\n",
      "        LOC       0.81      0.86      0.83      2094\n",
      "       MISC       0.88      0.64      0.74      1268\n",
      "        ORG       0.76      0.52      0.62      2092\n",
      "        PER       0.89      0.78      0.83      3149\n",
      "\n",
      "avg / total       0.94      0.94      0.94     51362\n",
      "\n",
      "=== Performance (omitting 'O' class) ===\n",
      "Mean precision:  83.57%\n",
      "Mean recall:     71.67%\n",
      "Mean F1:         76.68%\n"
     ]
    },
    {
     "data": {
      "text/plain": [
       "(83.570364287709268, 71.67267232360804, 76.677326619656824)"
      ]
     },
     "execution_count": 155,
     "metadata": {},
     "output_type": "execute_result"
    }
   ],
   "source": [
    "from nerwindow import full_report, eval_performance\n",
    "full_report(y_dev, yp, tagnames) # full report, helpful diagnostics\n",
    "eval_performance(y_dev, yp, tagnames) # performance: optimize this F1"
   ]
  },
  {
   "cell_type": "code",
   "execution_count": 156,
   "metadata": {
    "collapsed": false
   },
   "outputs": [],
   "source": [
    "# Save your predictions on the test set for us to evaluate\n",
    "# IMPORTANT: make sure X_test is exactly as loaded \n",
    "# from du.docs_to_windows, so that your predictions \n",
    "# line up with ours.\n",
    "yptest = clf.predict(X_test)\n",
    "ner.save_predictions(yptest, \"test.predicted\")"
   ]
  },
  {
   "cell_type": "markdown",
   "metadata": {},
   "source": [
    "## Part [1.1]: Probing neuron responses\n",
    "\n",
    "You might have seen some results from computer vision where the individual neurons learn to detect edges, shapes, or even [cat faces](http://googleblog.blogspot.com/2012/06/using-large-scale-brain-simulations-for.html). We're going to do the same for language.\n",
    "\n",
    "Recall that each \"neuron\" is essentially a logistic regression unit, with weights corresponding to rows of the corresponding matrix. So, if we have a hidden layer of dimension 100, then we can think of our matrix $W \\in \\mathbb{R}^{100 x 150}$ as representing 100 hidden neurons each with weights `W[i,:]` and bias `b1[i]`.\n",
    "\n",
    "### (a): Hidden Layer, Center Word\n",
    "For now, let's just look at the center word, and ignore the rest of the window. This corresponds to columns `W[:,50:100]`, although this could change if you altered the window size for your model. For each neuron, find the top 10 words that it responds to, as measured by the dot product between `W[i,50:100]` and `L[j]`. Use the provided code to print these words and their scores for 5 neurons of your choice. In your writeup, briefly describe what you notice here.\n",
    "\n",
    "The `num_to_word` dictionary, loaded earlier, may be helpful."
   ]
  },
  {
   "cell_type": "code",
   "execution_count": 212,
   "metadata": {
    "collapsed": false,
    "scrolled": false
   },
   "outputs": [
    {
     "name": "stdout",
     "output_type": "stream",
     "text": [
      "Neuron 1\n",
      "[0]: (0.771) going\n",
      "[1]: (0.776) unlikely\n",
      "[2]: (0.789) worth\n",
      "[3]: (0.791) shown\n",
      "[4]: (0.796) n't\n",
      "[5]: (0.802) situated\n",
      "[6]: (0.809) so\n",
      "[7]: (0.819) quite\n",
      "[8]: (0.849) fairly\n",
      "[9]: (0.905) very\n",
      "\n",
      "Neuron 3\n",
      "[0]: (0.053) scores\n",
      "[1]: (0.054) wife\n",
      "[2]: (0.054) instance\n",
      "[3]: (0.054) initial\n",
      "[4]: (0.055) extra\n",
      "[5]: (0.055) grandfather\n",
      "[6]: (0.055) </s>\n",
      "[7]: (0.058) there\n",
      "[8]: (0.061) why\n",
      "[9]: (0.063) example\n",
      "\n",
      "Neuron 4\n",
      "[0]: (0.020) worse\n",
      "[1]: (0.021) announcement\n",
      "[2]: (0.021) bonus\n",
      "[3]: (0.021) extra\n",
      "[4]: (0.021) scores\n",
      "[5]: (0.022) example\n",
      "[6]: (0.022) why\n",
      "[7]: (0.023) [\n",
      "[8]: (0.023) instance\n",
      "[9]: (0.025) estimated\n",
      "\n",
      "Neuron 6\n",
      "[0]: (1.528) scores\n",
      "[1]: (1.562) index\n",
      "[2]: (1.570) example\n",
      "[3]: (1.581) series\n",
      "[4]: (1.638) division\n",
      "[5]: (1.666) outcome\n",
      "[6]: (1.752) open\n",
      "[7]: (1.810) cup\n",
      "[8]: (1.822) explanation\n",
      "[9]: (1.853) score\n",
      "\n",
      "Neuron 8\n",
      "[0]: (0.257) norway\n",
      "[1]: (0.258) ireland\n",
      "[2]: (0.261) littoral\n",
      "[3]: (0.261) shore\n",
      "[4]: (0.263) india\n",
      "[5]: (0.267) uk\n",
      "[6]: (0.269) asia\n",
      "[7]: (0.271) london\n",
      "[8]: (0.279) wales\n",
      "[9]: (0.296) states\n",
      "\n"
     ]
    }
   ],
   "source": [
    "# Recommended function to print scores\n",
    "# scores = list of float\n",
    "# words = list of str\n",
    "def print_scores(scores, words):\n",
    "    for i in range(len(scores)):\n",
    "        print \"[%d]: (%.03f) %s\" % (i, scores[i], words[i])\n",
    "\n",
    "scores = np.dot(clf.params.W[:, 50:100], clf.sparams.L.T)\n",
    "topwords_index_lists = np.argsort(scores, axis=1)[:, -10:]\n",
    "\n",
    "def convert_to_words():\n",
    "    for topwords_index_list in topwords_index_lists:\n",
    "        yield [num_to_word[word_index] for word_index in topwords_index_list]\n",
    "        \n",
    "topwords = list(convert_to_words())\n",
    "topscores = np.sort(scores, axis=1)[:, -10:]\n",
    "\n",
    "neurons = [1,3,4,6,8] # change this to your chosen neurons\n",
    "for i in neurons:\n",
    "    print \"Neuron %d\" % i\n",
    "    print_scores(topscores[i], topwords[i])\n",
    "    print"
   ]
  },
  {
   "cell_type": "markdown",
   "metadata": {},
   "source": [
    "### (b): Model Output, Center Word\n",
    "Now, let's do the same for the output layer. Here we only have 5 neurons, one for each class. `O` isn't very interesting, but let's look at the other four.\n",
    "\n",
    "Here things get a little more complicated: since we take a softmax, we can't just look at the neurons separately. An input could cause several of these neurons to all have a strong response, so we really need to compute the softmax output and find the strongest inputs for each class.\n",
    "\n",
    "As before, let's consider only the center word (`W[:,50:100]`). For each class `ORG`, `PER`, `LOC`, and `MISC`, find the input words that give the highest probability $P(\\text{class}\\ |\\ \\text{word})$.\n",
    "\n",
    "You'll need to do the full feed-forward computation here - for efficiency, try to express this as a matrix operation on $L$. This is the same feed-forward computation as used to predict probabilities, just with $W$ replaced by `W[:,50:100]`.\n",
    "\n",
    "As with the hidden-layer neurons, print the top 10 words and their corresponding class probabilities for each class."
   ]
  },
  {
   "cell_type": "code",
   "execution_count": 247,
   "metadata": {
    "collapsed": false
   },
   "outputs": [
    {
     "name": "stdout",
     "output_type": "stream",
     "text": [
      "Output neuron 1: LOC\n",
      "[0]: (0.970) headland\n",
      "[1]: (0.974) korea\n",
      "[2]: (0.975) russia\n",
      "[3]: (0.976) england\n",
      "[4]: (0.980) britain\n",
      "[5]: (0.981) pakistan\n",
      "[6]: (0.983) norway\n",
      "[7]: (0.984) egypt\n",
      "[8]: (0.986) germany\n",
      "[9]: (0.988) italy\n",
      "\n",
      "Output neuron 2: MISC\n",
      "[0]: (0.981) egyptian\n",
      "[1]: (0.987) olympic\n",
      "[2]: (0.988) turkish\n",
      "[3]: (0.988) cup\n",
      "[4]: (0.989) belgian\n",
      "[5]: (0.989) english\n",
      "[6]: (0.991) danish\n",
      "[7]: (0.993) german\n",
      "[8]: (0.994) israeli\n",
      "[9]: (0.997) italian\n",
      "\n",
      "Output neuron 3: ORG\n",
      "[0]: (0.978) &\n",
      "[1]: (0.979) co\n",
      "[2]: (0.980) non-profit\n",
      "[3]: (0.981) ajax\n",
      "[4]: (0.983) charity\n",
      "[5]: (0.983) reuters\n",
      "[6]: (0.989) corp\n",
      "[7]: (0.990) arts\n",
      "[8]: (0.991) inc\n",
      "[9]: (0.992) commons\n",
      "\n",
      "Output neuron 4: PER\n",
      "[0]: (0.995) jackson\n",
      "[1]: (0.996) johnny\n",
      "[2]: (0.996) jason\n",
      "[3]: (0.996) carter\n",
      "[4]: (0.996) claw\n",
      "[5]: (0.997) dizzy\n",
      "[6]: (0.997) kelly\n",
      "[7]: (0.998) owl\n",
      "[8]: (0.998) jr.\n",
      "[9]: (0.999) remainder\n",
      "\n"
     ]
    }
   ],
   "source": [
    "from softmax import softmax_vectorized\n",
    "\n",
    "# Forward pass\n",
    "hidden = np.tanh(np.dot(clf.params.W[:, 50:100], clf.sparams.L.T) + clf.params.b1.reshape(100, 1))\n",
    "scores = np.dot(clf.params.U, hidden) + clf.params.b2.reshape(5, 1)\n",
    "probs = softmax_vectorized(scores)\n",
    "\n",
    "top_probs = np.sort(probs)[:, -10:]\n",
    "\n",
    "def generate_words():\n",
    "    for probs_list in np.argsort(probs)[:, -10:]:\n",
    "        yield [num_to_word[top_prob] for top_prob in probs_list]\n",
    "        \n",
    "topwords = list(generate_words())\n",
    "\n",
    "for i in range(1,5):\n",
    "    print \"Output neuron %d: %s\" % (i, num_to_tag[i])\n",
    "    print_scores(top_probs[i], topwords[i])\n",
    "    print \"\"\n",
    "\n",
    "#### END YOUR CODE ####"
   ]
  },
  {
   "cell_type": "markdown",
   "metadata": {},
   "source": [
    "### (c): Model Output, Preceding Word\n",
    "Now for one final task: let's look at the preceding word. Repeat the above analysis for the output layer, but use the first part of $W$, i.e. `W[:,:50]`.\n",
    "\n",
    "Describe what you see, and include these results in your writeup."
   ]
  },
  {
   "cell_type": "code",
   "execution_count": 248,
   "metadata": {
    "collapsed": false,
    "scrolled": false
   },
   "outputs": [
    {
     "name": "stdout",
     "output_type": "stream",
     "text": [
      "Output neuron 1: LOC\n",
      "[0]: (0.332) visited\n",
      "[1]: (0.342) lakes\n",
      "[2]: (0.344) dwelling\n",
      "[3]: (0.385) governed\n",
      "[4]: (0.407) adjacent\n",
      "[5]: (0.417) beneath\n",
      "[6]: (0.473) east\n",
      "[7]: (0.501) located\n",
      "[8]: (0.551) west\n",
      "[9]: (0.603) inhabited\n",
      "\n",
      "Output neuron 2: MISC\n",
      "[0]: (0.283) extinct\n",
      "[1]: (0.285) series\n",
      "[2]: (0.285) belong\n",
      "[3]: (0.310) zoo\n",
      "[4]: (0.322) cave\n",
      "[5]: (0.328) mystery\n",
      "[6]: (0.347) stadium\n",
      "[7]: (0.351) biblical\n",
      "[8]: (0.356) catholic\n",
      "[9]: (0.429) flock\n",
      "\n",
      "Output neuron 3: ORG\n",
      "[0]: (0.916) st\n",
      "[1]: (0.923) commons\n",
      "[2]: (0.925) grove\n",
      "[3]: (0.928) venture\n",
      "[4]: (0.929) alliance\n",
      "[5]: (0.931) enterprise\n",
      "[6]: (0.952) trust\n",
      "[7]: (0.953) corporation\n",
      "[8]: (0.964) v\n",
      "[9]: (0.972) &\n",
      "\n",
      "Output neuron 4: PER\n",
      "[0]: (0.990) j.\n",
      "[1]: (0.991) ode\n",
      "[2]: (0.991) p.\n",
      "[3]: (0.991) michael\n",
      "[4]: (0.992) jim\n",
      "[5]: (0.992) chris\n",
      "[6]: (0.992) alexander\n",
      "[7]: (0.994) m.\n",
      "[8]: (0.995) peter\n",
      "[9]: (0.997) jr.\n",
      "\n"
     ]
    }
   ],
   "source": [
    "from softmax import softmax_vectorized\n",
    "\n",
    "# Forward pass\n",
    "hidden = np.tanh(np.dot(clf.params.W[:, :50], clf.sparams.L.T) + clf.params.b1.reshape(100, 1))\n",
    "scores = np.dot(clf.params.U, hidden) + clf.params.b2.reshape(5, 1)\n",
    "probs = softmax_vectorized(scores)\n",
    "\n",
    "top_probs = np.sort(probs)[:, -10:]\n",
    "\n",
    "def generate_words():\n",
    "    for probs_list in np.argsort(probs)[:, -10:]:\n",
    "        yield [num_to_word[top_prob] for top_prob in probs_list]\n",
    "        \n",
    "topwords = list(generate_words())\n",
    "\n",
    "for i in range(1,5):\n",
    "    print \"Output neuron %d: %s\" % (i, num_to_tag[i])\n",
    "    print_scores(top_probs[i], topwords[i])\n",
    "    print \"\""
   ]
  }
 ],
 "metadata": {
  "kernelspec": {
   "display_name": "Python 2",
   "language": "python",
   "name": "python2"
  },
  "language_info": {
   "codemirror_mode": {
    "name": "ipython",
    "version": 2
   },
   "file_extension": ".py",
   "mimetype": "text/x-python",
   "name": "python",
   "nbconvert_exporter": "python",
   "pygments_lexer": "ipython2",
   "version": "2.7.10"
  }
 },
 "nbformat": 4,
 "nbformat_minor": 0
}
